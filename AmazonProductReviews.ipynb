{
  "nbformat": 4,
  "nbformat_minor": 0,
  "metadata": {
    "colab": {
      "provenance": []
    },
    "kernelspec": {
      "name": "python3",
      "display_name": "Python 3"
    },
    "language_info": {
      "name": "python"
    }
  },
  "cells": [
    {
      "cell_type": "markdown",
      "source": [
        "# Scraping limited reviews from the product page..\n",
        "## Importing Libraries.."
      ],
      "metadata": {
        "id": "nYw5X86HbonC"
      }
    },
    {
      "cell_type": "code",
      "execution_count": 1,
      "metadata": {
        "id": "7lf8ntu9yjPS"
      },
      "outputs": [],
      "source": [
        "import requests\n",
        "from bs4 import BeautifulSoup\n",
        "import csv\n",
        "from datetime import datetime\n",
        "import os"
      ]
    },
    {
      "cell_type": "markdown",
      "source": [
        "## Working Code.."
      ],
      "metadata": {
        "id": "RohcUKlHcCse"
      }
    },
    {
      "cell_type": "code",
      "source": [
        "def get_response(url):\n",
        "    response = requests.get(url)\n",
        "    return BeautifulSoup(response.text, 'html.parser')"
      ],
      "metadata": {
        "id": "RApBw364c60C"
      },
      "execution_count": 2,
      "outputs": []
    },
    {
      "cell_type": "code",
      "source": [
        "def get_rating(review):\n",
        "    rating = review.find('span', class_ = \"a-icon-alt\").text\n",
        "    rating = rating.split(\"out\")[0].strip()\n",
        "    rating = float(rating)\n",
        "    return rating\n",
        "\n",
        "def get_star(rating):\n",
        "    rating = int(rating)\n",
        "    star = \"⭐\" * rating\n",
        "    return star\n",
        "\n",
        "def get_variant(product, review):\n",
        "    variant = review.find('span', {'data-hook': 'format-strip-linkless'})\n",
        "    # Filtering the 'None' type data..\n",
        "    try:\n",
        "        if variant != None:\n",
        "            variant = variant.text\n",
        "        elif variant == None:\n",
        "            variant = product + \" (Unavailable, Generated_from_Title)\"\n",
        "    except:\n",
        "        variant = \"Unavaliable\"\n",
        "    return variant\n",
        "\n",
        "def get_vote(review):\n",
        "    vote = review.find('span', class_ = \"a-size-base a-color-tertiary cr-vote-text\")\n",
        "    if vote != None:\n",
        "        vote = vote.text\n",
        "    else:\n",
        "        vote = \"None\"\n",
        "    return vote\n",
        "\n",
        "def get_review_images(review):\n",
        "    img_links = []\n",
        "    raw_img_links = []\n",
        "    if review.find('div', class_ = \"review-image-tile-section\") == None:\n",
        "        img_links.append(\"Not Available\")\n",
        "    else:\n",
        "        raw_img_links = review.find_all('img', alt = \"Customer image\")\n",
        "    for individual_links in raw_img_links:\n",
        "        media_link = individual_links.get('data-src')\n",
        "        if media_link != None:\n",
        "            img_links.append(media_link)\n",
        "    return ', '.join(img_links)\n",
        "\n",
        "def scrape(soup):               # Replaced 'url' with 'soup'..\n",
        "    #soup = get_response(url)\n",
        "    product = soup.find('span', class_ = \"a-size-large product-title-word-break\").text.strip()\n",
        "    print(\"\\t\\t\\tP R O D U C T     :   \", product)\n",
        "    fetched_reviews = []\n",
        "    for review in soup.find_all('div', {'class': 'review'}):\n",
        "        customer_name = review.find('span', class_ = \"a-profile-name\").text\n",
        "        rating = get_rating(review)\n",
        "        date = review.find('span', class_ = \"a-size-base a-color-secondary review-date\").text\n",
        "        comment = review.find('a', class_ = \"a-size-base a-link-normal review-title a-color-base review-title-content a-text-bold\").text.strip()\n",
        "        body = review.find('div', class_ = \"a-expander-content reviewText review-text-content a-expander-partial-collapse-content\").text.strip()\n",
        "        variant = get_variant(product, review)\n",
        "        vote = get_vote(review)\n",
        "        img_links = get_review_images(review)\n",
        "\n",
        "        #['Customer Name', 'Variant', 'Rating(Out of 5)', 'Rating', 'Date of Review', 'Comment', 'Review', 'Images attatched by Customer', 'Votes on the Review']\n",
        "        fetched_reviews.append([customer_name, variant, rating, get_star(rating), date, comment, body, img_links, vote])\n",
        "\n",
        "        # Printing the details..\n",
        "        print(\"\\n\\n\\n\\nNAME      :   \", customer_name)\n",
        "        print(\"VARIANT   :   \", variant)\n",
        "        print(\"RATING    :   \", rating)\n",
        "        print(\"DATE      :   \", date.encode(\"utf-8\"))       # '.encode(\"utf-8\")' is required only in Visual Studio Code or CMD, not required if used in Colab..\n",
        "        print(\"COMMENT   :   \", comment.encode(\"utf-8\"))    # '.encode(\"utf-8\")' is required only in Visual Studio Code or CMD, not required if used in Colab..\n",
        "        print(\"BODY      :   \", body.encode(\"utf-8\"))       # '.encode(\"utf-8\")' is required only in Visual Studio Code or CMD, not required if used in Colab..\n",
        "        print(\"IMAGES    :   \", img_links)\n",
        "        print(\"VOTE      :   \", vote)\n",
        "\n",
        "    # Save to CSV..\n",
        "    save_to_csv(product, fetched_reviews)\n",
        "    \n",
        "def save_to_csv(product, fetched_reviews):\n",
        "    page_visit_details = datetime.now().strftime(\"%B %d %Y, %H-%M-%S\")\n",
        "    # Applying this filter because the file cannot be saved into the system with these special characters in file name..\n",
        "    replace_characters = [':', '\\\\', '|', '/', '*', '?', '\"', '<', '>']\n",
        "    for char in replace_characters:\n",
        "        if char in product:\n",
        "            product = product.replace(char, \"\")\n",
        "    # Too long name seems to be an issue while adding these files in github so set the limit of the filename to 60 characters..\n",
        "    product = product[0:60]\n",
        "    file_path = product + '(Product Page, Visited on ' + str(page_visit_details) + ').csv'\n",
        "    # write the information to a CSV file..\n",
        "    with open(file_path, 'w', newline='', encoding='utf-8') as csvfile:\n",
        "        csv_writer = csv.writer(csvfile)\n",
        "        csv_writer.writerow(['Customer Name', 'Variant', 'Rating(Out of 5)', 'Rating', 'Date of Review', 'Comment', 'Review', 'Images attatched by Customer', 'Votes on the Review'])\n",
        "        csv_writer.writerows(fetched_reviews)\n",
        "    \n",
        "    # Get the absolute path of the file\n",
        "    absolute_path = os.path.abspath(file_path)\n",
        "    # Print the absolute path\n",
        "    print(\"\\n\\n___________________________________________________________________________________________________________________________________\")\n",
        "    print(\"-----------------------------------------------------------------------------------------------------------------------------------\\n\\n\")\n",
        "    print(f'The absolute path of the CSV file is: {absolute_path}\\nVisited on {page_visit_details}')\n",
        "\n",
        "def save_to_json():\n",
        "    pass"
      ],
      "metadata": {
        "id": "Vo-LEUCNzgmS"
      },
      "execution_count": 3,
      "outputs": []
    },
    {
      "cell_type": "code",
      "source": [
        "url = 'https://p-nt-www-amazon-in-kalias.amazon.in/New-Apple-iPhone-12-128GB/dp/B08L5VJWCV?th=1'"
      ],
      "metadata": {
        "id": "fZsw6UqYZlqZ"
      },
      "execution_count": 6,
      "outputs": []
    },
    {
      "cell_type": "code",
      "source": [
        "soup = get_response(url)"
      ],
      "metadata": {
        "id": "zpQ1V1o2dDuh"
      },
      "execution_count": 7,
      "outputs": []
    },
    {
      "cell_type": "code",
      "source": [
        "# Testing few concepts and algorithms..\n",
        "\n",
        "star = \"5.0 out of 5 stars\"\n",
        "rating = star.split(\"out\")[0].strip()\n",
        "print(rating)\n",
        "print(type(rating))\n",
        "rating = float(rating)\n",
        "print(rating)\n",
        "print(type(rating))\n",
        "\n",
        "print(\"⭐⭐\")\n",
        "\n",
        "print(get_star(6.0))"
      ],
      "metadata": {
        "id": "BKveYE6thmto"
      },
      "execution_count": null,
      "outputs": []
    },
    {
      "cell_type": "code",
      "source": [
        "if __name__ == \"__main__\":\n",
        "    #scrape(url)\n",
        "    scrape(soup)"
      ],
      "metadata": {
        "colab": {
          "base_uri": "https://localhost:8080/"
        },
        "id": "S-6aTGhKcnDo",
        "outputId": "a30e6f82-8bb0-4809-8bce-a583ced8f133"
      },
      "execution_count": 8,
      "outputs": [
        {
          "output_type": "stream",
          "name": "stdout",
          "text": [
            "\t\t\tP R O D U C T     :    Apple iPhone 12 (128GB) - Green\n",
            "\n",
            "\n",
            "\n",
            "\n",
            "NAME      :    Afzal khan\n",
            "VARIANT   :    Colour: PurpleSize: 128GBPattern name: iPhone 12\n",
            "RATING    :    5.0\n",
            "DATE      :    b'Reviewed in India \\xf0\\x9f\\x87\\xae\\xf0\\x9f\\x87\\xb3 on 18 January 2023'\n",
            "COMMENT   :    b'Iphone 120'\n",
            "BODY      :    b'Awesome phone and quality too good on amazon'\n",
            "IMAGES    :    Not Available\n",
            "VOTE      :    2 people found this helpful\n",
            "\n",
            "\n",
            "\n",
            "\n",
            "NAME      :    Abhishek\n",
            "VARIANT   :    Colour: WhiteSize: 64GBPattern name: iPhone 12\n",
            "RATING    :    4.0\n",
            "DATE      :    b'Reviewed in India \\xf0\\x9f\\x87\\xae\\xf0\\x9f\\x87\\xb3 on 4 May 2022'\n",
            "COMMENT   :    b'An overall good premium experience'\n",
            "BODY      :    b'SUMMERY: As a first time iPhone user, I would say one should definitely buy iPhone ONLY for premium built & premium hardware (will talk later) while the whole iOS experience is pretty overrated. iPhones isn\\'t any exceptionally fast with normal apps like YouTube, Insta etc, Android phones are equally snappy with them in 2022.PROS:1. Impressive hardware, the heptics, the autobrightness & otherwise highly ignored things in Android are way too perfectly executed in iPhone and it DOES make a big difference in user experience!!2. The screen is AMAZING.. it doesn\\'t have 90 or 120 hz refresh rate but it FEELS better than my Nord with 90 hz!!3. A14 bionic promises years of performance ahead.4. Battery life is somewhere in between good & great.5.6. The dimensions of phone, it\\'s smaller than usual android phones and feels much more handy along with less weight.7. Overall build quality is great.8. Best audio output out there.9. Long term support.CONS:1. SLOW CHARGING. 20 W only, you\\'ll be jealous of 1/3rd price phones with 60 W charging. Yes that much high charging will effect health of battery but 20 W is way way too less, if Apple is such a legendary company they should have created a battery that can withstand decently fast charging while instead they just use slow charging to keep their battery\\'s health.2. Overy exhagerated software experience, reality is that Android is more user friendly with better gesture & commonsense options & settings & steps to do simple things. iOS looks pretty yes but UX engineers at Apple have really done a crappy job.. there\\'s still no notification grouping in correct manner (its executed poorly), no proper homescreen customisation & just so so so many \"commonsense\" things are missing from iOS I can rant all day about it. Everything you can do in Android with a single click or swipe takes 2 swipes and then a click to do in iOS its SOOOOO ANNOYING. Like you want to clear a notification? Swipe and then click on clear. You want to open a notification? Swipe FIRST and then click open.. like wth????????3. DON\\'T believe Apple fanboys who scream about speed, Android phones are equally snappy in performance today. There are split second app loading times in iOS also, just like in Android. And yeah iOS DOES HAVE occasional bugs too, apps taking too much time sometimes etc etc.4. FaceID is nice but an in-fingerprint reader seems the best ID to me atleast, that\\'s missing.5. Ridiculously expensive accessories6. Battery life is above good but not great.In the end I would say iPhone, overall, does provide a better experience (mostly cuz of hardware only) but it\\'s expensive. Do know that you\\'re NOT buying a value-for-money phone at all, so buy it only if you can afford it without much difficulty.'\n",
            "IMAGES    :    https://m.media-amazon.com/images/I/51XEKWZCDpL._SY88.jpg, https://m.media-amazon.com/images/I/61+ry8aI6BL._SY88.jpg, https://m.media-amazon.com/images/I/61a-qb-NmnL._SY88.jpg\n",
            "VOTE      :    722 people found this helpful\n",
            "\n",
            "\n",
            "\n",
            "\n",
            "NAME      :    Archana\n",
            "VARIANT   :    Colour: WhiteSize: 64GBPattern name: iPhone 12\n",
            "RATING    :    5.0\n",
            "DATE      :    b'Reviewed in India \\xf0\\x9f\\x87\\xae\\xf0\\x9f\\x87\\xb3 on 19 January 2023'\n",
            "COMMENT   :    b'Perfect'\n",
            "BODY      :    b'Perfect Real'\n",
            "IMAGES    :    Not Available\n",
            "VOTE      :    None\n",
            "\n",
            "\n",
            "\n",
            "\n",
            "NAME      :    Anwar ansari\n",
            "VARIANT   :    Colour: (PRODUCT)REDSize: 128GBPattern name: iPhone 12\n",
            "RATING    :    5.0\n",
            "DATE      :    b'Reviewed in India \\xf0\\x9f\\x87\\xae\\xf0\\x9f\\x87\\xb3 on 10 January 2023'\n",
            "COMMENT   :    b'Badiya he phone'\n",
            "BODY      :    b''\n",
            "IMAGES    :    https://m.media-amazon.com/images/I/71XmlzjDYrL._SY88.jpg\n",
            "VOTE      :    None\n",
            "\n",
            "\n",
            "\n",
            "\n",
            "NAME      :    WEGoT Utility Solutions\n",
            "VARIANT   :    Colour: BlueSize: 128GBPattern name: iPhone 12\n",
            "RATING    :    4.0\n",
            "DATE      :    b'Reviewed in India \\xf0\\x9f\\x87\\xae\\xf0\\x9f\\x87\\xb3 on 19 January 2023'\n",
            "COMMENT   :    b'good'\n",
            "BODY      :    b'camera quality is good'\n",
            "IMAGES    :    Not Available\n",
            "VOTE      :    None\n",
            "\n",
            "\n",
            "\n",
            "\n",
            "NAME      :    Ram\n",
            "VARIANT   :    Colour: (PRODUCT)REDSize: 64GBPattern name: iPhone 12\n",
            "RATING    :    4.0\n",
            "DATE      :    b'Reviewed in India \\xf0\\x9f\\x87\\xae\\xf0\\x9f\\x87\\xb3 on 16 January 2023'\n",
            "COMMENT   :    b'Satisfied'\n",
            "BODY      :    b'Camera quality is good but when I transfer to Android the picture color itself different \\xf0\\x9f\\x98\\x82'\n",
            "IMAGES    :    Not Available\n",
            "VOTE      :    One person found this helpful\n",
            "\n",
            "\n",
            "\n",
            "\n",
            "NAME      :    Nithinlal\n",
            "VARIANT   :    Colour: BlueSize: 128GBPattern name: iPhone 12\n",
            "RATING    :    5.0\n",
            "DATE      :    b'Reviewed in India \\xf0\\x9f\\x87\\xae\\xf0\\x9f\\x87\\xb3 on 6 January 2023'\n",
            "COMMENT   :    b\"It's good.\"\n",
            "BODY      :    b\"It's good phone but camera quality and battery backup is ok only. Because I expected to much.\"\n",
            "IMAGES    :    https://m.media-amazon.com/images/I/61PBPgHPeqL._SY88.jpg, https://m.media-amazon.com/images/I/61jtc8rXlCL._SY88.jpg\n",
            "VOTE      :    3 people found this helpful\n",
            "\n",
            "\n",
            "\n",
            "\n",
            "NAME      :    Mohd NADEEM\n",
            "VARIANT   :    Colour: WhiteSize: 128GBPattern name: iPhone 12\n",
            "RATING    :    4.0\n",
            "DATE      :    b'Reviewed in India \\xf0\\x9f\\x87\\xae\\xf0\\x9f\\x87\\xb3 on 17 January 2023'\n",
            "COMMENT   :    b'Very high coast price'\n",
            "BODY      :    b'price very high'\n",
            "IMAGES    :    Not Available\n",
            "VOTE      :    None\n",
            "\n",
            "\n",
            "___________________________________________________________________________________________________________________________________\n",
            "-----------------------------------------------------------------------------------------------------------------------------------\n",
            "\n",
            "\n",
            "The absolute path of the CSV file is: /content/Apple iPhone 12 (128GB) - Green(Product Page, Visited on January 21 2023, 12-56-09).csv\n",
            "Visited on January 21 2023, 12-56-09\n"
          ]
        }
      ]
    },
    {
      "cell_type": "markdown",
      "source": [],
      "metadata": {
        "id": "7XmZBSSTcRwU"
      }
    }
  ]
}